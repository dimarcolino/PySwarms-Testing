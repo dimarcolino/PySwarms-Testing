{
 "cells": [
  {
   "cell_type": "code",
   "execution_count": 19,
   "metadata": {},
   "outputs": [
    {
     "name": "stdout",
     "output_type": "stream",
     "text": [
      "The autoreload extension is already loaded. To reload it, use:\n",
      "  %reload_ext autoreload\n"
     ]
    }
   ],
   "source": [
    "# Import modules\n",
    "import numpy as np\n",
    "from pyswarms.single import GlobalBestPSO\n",
    "\n",
    "# Import sphere function as objective function\n",
    "from pyswarms.utils.functions.single_obj import sphere as f\n",
    "\n",
    "# Import backend modules\n",
    "import pyswarms.backend as P\n",
    "from pyswarms.backend.topology import Star\n",
    "\n",
    "# Some more magic so that the notebook will reload external python modules;\n",
    "# see http://stackoverflow.com/questions/1907993/autoreload-of-modules-in-ipython\n",
    "%load_ext autoreload\n",
    "%autoreload 2"
   ]
  },
  {
   "cell_type": "code",
   "execution_count": 27,
   "metadata": {},
   "outputs": [
    {
     "name": "stdout",
     "output_type": "stream",
     "text": [
      "The following are the attributes of our swarm: dict_keys(['position', 'velocity', 'n_particles', 'dimensions', 'options', 'pbest_pos', 'best_pos', 'pbest_cost', 'best_cost', 'current_cost'])\n"
     ]
    }
   ],
   "source": [
    "my_topology = Star() # The Topology Class\n",
    "my_options = {'c1': 0.6, 'c2': 0.3, 'w': 0.4} # arbitrarily set\n",
    "my_swarm = P.create_swarm(n_particles=100, dimensions=2, options=my_options) # The Swarm Class\n",
    "\n",
    "print('The following are the attributes of our swarm: {}'.format(my_swarm.__dict__.keys()))"
   ]
  },
  {
   "cell_type": "code",
   "execution_count": 31,
   "metadata": {},
   "outputs": [
    {
     "name": "stdout",
     "output_type": "stream",
     "text": [
      "Iteration: 1 | my_swarm.best_cost: 0.0000\n",
      "Iteration: 21 | my_swarm.best_cost: 0.0000\n",
      "Iteration: 41 | my_swarm.best_cost: 0.0000\n",
      "Iteration: 61 | my_swarm.best_cost: 0.0000\n",
      "Iteration: 81 | my_swarm.best_cost: 0.0000\n",
      "The best cost found by our swarm is: 0.0000\n",
      "The best position found by our swarm is: [-5.55431151e-37  4.10118007e-37]\n"
     ]
    }
   ],
   "source": [
    "iterations = 100 # Set 100 iterations\n",
    "for i in range(iterations):\n",
    "    # Part 1: Update personal best\n",
    "    my_swarm.current_cost = f(my_swarm.position) # Compute current cost\n",
    "    my_swarm.pbest_cost = f(my_swarm.pbest_pos)  # Compute personal best pos\n",
    "    my_swarm.pbest_pos, my_swarm.pbest_cost = P.compute_pbest(my_swarm) # Update and store\n",
    "\n",
    "    # Part 2: Update global best\n",
    "    # Note that gbest computation is dependent on your topology\n",
    "    if np.min(my_swarm.pbest_cost) < my_swarm.best_cost:\n",
    "        my_swarm.best_pos, my_swarm.best_cost = my_topology.compute_gbest(my_swarm)\n",
    "\n",
    "    # Let's print our output\n",
    "    if i%20==0:\n",
    "        print('Iteration: {} | my_swarm.best_cost: {:.4f}'.format(i+1, my_swarm.best_cost))\n",
    "\n",
    "    # Part 3: Update position and velocity matrices\n",
    "    # Note that position and velocity updates are dependent on your topology\n",
    "    my_swarm.velocity = my_topology.compute_velocity(my_swarm)\n",
    "    my_swarm.position = my_topology.compute_position(my_swarm)\n",
    "\n",
    "print('The best cost found by our swarm is: {:.4f}'.format(my_swarm.best_cost))\n",
    "print('The best position found by our swarm is: {}'.format(my_swarm.best_pos))"
   ]
  },
  {
   "cell_type": "code",
   "execution_count": 34,
   "metadata": {},
   "outputs": [
    {
     "name": "stderr",
     "output_type": "stream",
     "text": [
      "2024-05-27 23:56:08,562 - pyswarms.single.global_best - INFO - Optimize for 100 iters with {'c1': 0.6, 'c2': 0.3, 'w': 0.4}\n",
      "pyswarms.single.global_best: 100%|██████████|100/100, best_cost=1.68e-36\n",
      "2024-05-27 23:56:08,613 - pyswarms.single.global_best - INFO - Optimization finished | best cost: 1.6825556338638434e-36, best pos: [5.63412118e-19 1.16838453e-18]\n"
     ]
    },
    {
     "data": {
      "text/plain": [
       "(1.6825556338638434e-36, array([5.63412118e-19, 1.16838453e-18]))"
      ]
     },
     "execution_count": 34,
     "metadata": {},
     "output_type": "execute_result"
    }
   ],
   "source": [
    "optimizer = GlobalBestPSO(n_particles=50, dimensions=2, options=my_options) # Reuse our previous options\n",
    "optimizer.optimize(f, iters=100)"
   ]
  }
 ],
 "metadata": {
  "kernelspec": {
   "display_name": "base",
   "language": "python",
   "name": "python3"
  },
  "language_info": {
   "codemirror_mode": {
    "name": "ipython",
    "version": 3
   },
   "file_extension": ".py",
   "mimetype": "text/x-python",
   "name": "python",
   "nbconvert_exporter": "python",
   "pygments_lexer": "ipython3",
   "version": "3.11.4"
  }
 },
 "nbformat": 4,
 "nbformat_minor": 2
}
